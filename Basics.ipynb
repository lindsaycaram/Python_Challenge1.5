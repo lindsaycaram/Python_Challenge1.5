{
 "cells": [
  {
   "cell_type": "markdown",
   "metadata": {},
   "source": [
    "#  Exploring U.S. Gun Deaths"
   ]
  },
  {
   "cell_type": "markdown",
   "metadata": {},
   "source": [
    "Dataset contains information on gun deaths in the U.S. from 2012 to 2014 where each row represents a single fatality.\n",
    "\n",
    "Data source is FiveThirtyEight.\n",
    "\n",
    "Column names and description: \n",
    "*  index - row number\n",
    "*  year - year the fatality occurred\n",
    "*  month - month the fatality occurred\n",
    "*  intent - perpetrator intent of the crime (Suicide, Accidental, NA, Homicide, Undetermined)\n",
    "*  police - was police involved? 0 false or 1 true\n",
    "*  sex - M or F\n",
    "*  age - victim age\n",
    "*  race - Asian/Pacific Islander, Native American/Native Alaskan, Black, Hispanic, White\n",
    "*  hispanic - code indicating Hispanic origin\n",
    "*  place - where the shooting occurred\n",
    "*  education - educational status of the victim\n",
    "    -  1 less than highschool\n",
    "    -  2 graduated from high school\n",
    "    -  3 some college\n",
    "    -  4 graduated from college\n",
    "    -  5 not available\n",
    "    \n",
    "General question: Are there demographic patterns for the victims? \n"
   ]
  },
  {
   "cell_type": "code",
   "execution_count": 2,
   "metadata": {
    "collapsed": false
   },
   "outputs": [
    {
     "name": "stdout",
     "output_type": "stream",
     "text": [
      "[['', 'year', 'month', 'intent', 'police', 'sex', 'age', 'race', 'hispanic', 'place', 'education'], ['1', '2012', '01', 'Suicide', '0', 'M', '34', 'Asian/Pacific Islander', '100', 'Home', '4'], ['2', '2012', '01', 'Suicide', '0', 'F', '21', 'White', '100', 'Street', '3'], ['3', '2012', '01', 'Suicide', '0', 'M', '60', 'White', '100', 'Other specified', '4'], ['4', '2012', '02', 'Suicide', '0', 'M', '64', 'White', '100', 'Home', '4']]\n"
     ]
    }
   ],
   "source": [
    "#read in the file and view the data in list of lists format\n",
    "import csv \n",
    "f=open(\"guns.csv\",\"r\")\n",
    "csvreader=csv.reader(f)\n",
    "data=list(csvreader)\n",
    "print(data[:5])"
   ]
  },
  {
   "cell_type": "code",
   "execution_count": 3,
   "metadata": {
    "collapsed": false
   },
   "outputs": [
    {
     "name": "stdout",
     "output_type": "stream",
     "text": [
      "['', 'year', 'month', 'intent', 'police', 'sex', 'age', 'race', 'hispanic', 'place', 'education']\n",
      "[['1', '2012', '01', 'Suicide', '0', 'M', '34', 'Asian/Pacific Islander', '100', 'Home', '4'], ['2', '2012', '01', 'Suicide', '0', 'F', '21', 'White', '100', 'Street', '3'], ['3', '2012', '01', 'Suicide', '0', 'M', '60', 'White', '100', 'Other specified', '4'], ['4', '2012', '02', 'Suicide', '0', 'M', '64', 'White', '100', 'Home', '4'], ['5', '2012', '02', 'Suicide', '0', 'M', '31', 'White', '100', 'Other specified', '2']]\n"
     ]
    }
   ],
   "source": [
    "#view header then remove header from dataset \n",
    "headers=data[0]\n",
    "print(headers)\n",
    "data=data[1:]\n",
    "print(data[0:5])"
   ]
  },
  {
   "cell_type": "code",
   "execution_count": 4,
   "metadata": {
    "collapsed": false
   },
   "outputs": [
    {
     "name": "stdout",
     "output_type": "stream",
     "text": [
      "{'2013': 33636, '2014': 33599, '2012': 33563}\n"
     ]
    }
   ],
   "source": [
    "#calculate how many gun deaths occurred each year \n",
    "years=[event[1] for event in data]\n",
    "\n",
    "year_counts={}\n",
    "for event in years:\n",
    "    if event in year_counts:\n",
    "        year_counts[event]=year_counts[event]+1\n",
    "    else:\n",
    "        year_counts[event]=1\n",
    "print(year_counts)"
   ]
  },
  {
   "cell_type": "markdown",
   "metadata": {},
   "source": [
    "Observation: Gun deaths have been fairly constant within the US from 2012-2014 at ~34,000 deaths/year. The most deaths durign this time period occurred in 2013. Next, let's explore how gun deaths varied by month and year. "
   ]
  },
  {
   "cell_type": "code",
   "execution_count": 5,
   "metadata": {
    "collapsed": false
   },
   "outputs": [
    {
     "data": {
      "text/plain": [
       "{datetime.datetime(2012, 1, 1, 0, 0): 2758,\n",
       " datetime.datetime(2012, 2, 1, 0, 0): 2357,\n",
       " datetime.datetime(2012, 3, 1, 0, 0): 2743,\n",
       " datetime.datetime(2012, 4, 1, 0, 0): 2795,\n",
       " datetime.datetime(2012, 5, 1, 0, 0): 2999,\n",
       " datetime.datetime(2012, 6, 1, 0, 0): 2826,\n",
       " datetime.datetime(2012, 7, 1, 0, 0): 3026,\n",
       " datetime.datetime(2012, 8, 1, 0, 0): 2954,\n",
       " datetime.datetime(2012, 9, 1, 0, 0): 2852,\n",
       " datetime.datetime(2012, 10, 1, 0, 0): 2733,\n",
       " datetime.datetime(2012, 11, 1, 0, 0): 2729,\n",
       " datetime.datetime(2012, 12, 1, 0, 0): 2791,\n",
       " datetime.datetime(2013, 1, 1, 0, 0): 2864,\n",
       " datetime.datetime(2013, 2, 1, 0, 0): 2375,\n",
       " datetime.datetime(2013, 3, 1, 0, 0): 2862,\n",
       " datetime.datetime(2013, 4, 1, 0, 0): 2798,\n",
       " datetime.datetime(2013, 5, 1, 0, 0): 2806,\n",
       " datetime.datetime(2013, 6, 1, 0, 0): 2920,\n",
       " datetime.datetime(2013, 7, 1, 0, 0): 3079,\n",
       " datetime.datetime(2013, 8, 1, 0, 0): 2859,\n",
       " datetime.datetime(2013, 9, 1, 0, 0): 2742,\n",
       " datetime.datetime(2013, 10, 1, 0, 0): 2808,\n",
       " datetime.datetime(2013, 11, 1, 0, 0): 2758,\n",
       " datetime.datetime(2013, 12, 1, 0, 0): 2765,\n",
       " datetime.datetime(2014, 1, 1, 0, 0): 2651,\n",
       " datetime.datetime(2014, 2, 1, 0, 0): 2361,\n",
       " datetime.datetime(2014, 3, 1, 0, 0): 2684,\n",
       " datetime.datetime(2014, 4, 1, 0, 0): 2862,\n",
       " datetime.datetime(2014, 5, 1, 0, 0): 2864,\n",
       " datetime.datetime(2014, 6, 1, 0, 0): 2931,\n",
       " datetime.datetime(2014, 7, 1, 0, 0): 2884,\n",
       " datetime.datetime(2014, 8, 1, 0, 0): 2970,\n",
       " datetime.datetime(2014, 9, 1, 0, 0): 2914,\n",
       " datetime.datetime(2014, 10, 1, 0, 0): 2865,\n",
       " datetime.datetime(2014, 11, 1, 0, 0): 2756,\n",
       " datetime.datetime(2014, 12, 1, 0, 0): 2857}"
      ]
     },
     "execution_count": 5,
     "metadata": {},
     "output_type": "execute_result"
    }
   ],
   "source": [
    "#create a dictionary with year & month as the key with number of events as the value\n",
    "import datetime\n",
    "\n",
    "dates=[datetime.datetime(year=int(event[1]),month=int(event[2]), day=1 ) for event in data]\n",
    "dates[0:5]\n",
    "\n",
    "date_counts={}\n",
    "for an_event in dates:\n",
    "    if an_event in date_counts:\n",
    "        date_counts[an_event]=date_counts[an_event]+1\n",
    "    else:\n",
    "        date_counts[an_event]=1\n",
    "            \n",
    "date_counts"
   ]
  },
  {
   "cell_type": "code",
   "execution_count": 6,
   "metadata": {
    "collapsed": false
   },
   "outputs": [
    {
     "name": "stdout",
     "output_type": "stream",
     "text": [
      "{'M': 86349, 'F': 14449}\n",
      "{'White': 66237, 'Hispanic': 9022, 'Asian/Pacific Islander': 1326, 'Black': 23296, 'Native American/Native Alaskan': 917}\n"
     ]
    }
   ],
   "source": [
    "sex_counts={}\n",
    "for event in data: \n",
    "    if event[5] in sex_counts:\n",
    "        sex_counts[event[5]]=sex_counts[event[5]]+1\n",
    "    else:\n",
    "        sex_counts[event[5]]=1\n",
    "\n",
    "race_counts={}\n",
    "for event in data: \n",
    "    if event[7] in race_counts:\n",
    "        race_counts[event[7]]=race_counts[event[7]]+1\n",
    "    else:\n",
    "        race_counts[event[7]]=1\n",
    "        \n",
    "print(sex_counts)\n",
    "print(race_counts)"
   ]
  },
  {
   "cell_type": "markdown",
   "metadata": {},
   "source": [
    "Observation: Looking at gun deaths by gender, there are about 6 times more male victims than women victims. Looking at gun deaths by race, the victims are mostly White. Let's normalize this data by considering the percentage of each race within America. "
   ]
  },
  {
   "cell_type": "code",
   "execution_count": 7,
   "metadata": {
    "collapsed": false
   },
   "outputs": [
    {
     "name": "stdout",
     "output_type": "stream",
     "text": [
      "The most deaths took place in 2013-07-01 00:00:00 with 3079 victims.\n"
     ]
    }
   ],
   "source": [
    "max_deaths=0\n",
    "month_of_deaths=None\n",
    "for ind,value in date_counts.items():\n",
    "    if value > max_deaths:\n",
    "        max_deaths= value\n",
    "        month_of_deaths=ind\n",
    "\n",
    "print(\"The most deaths took place in \" + str(month_of_deaths)+ \" with \" + str(max_deaths) + \" victims.\")"
   ]
  },
  {
   "cell_type": "code",
   "execution_count": 8,
   "metadata": {
    "collapsed": false
   },
   "outputs": [
    {
     "data": {
      "text/plain": [
       "[['Id',\n",
       "  'Year',\n",
       "  'Id',\n",
       "  'Sex',\n",
       "  'Id',\n",
       "  'Hispanic Origin',\n",
       "  'Id',\n",
       "  'Id2',\n",
       "  'Geography',\n",
       "  'Total',\n",
       "  'Race Alone - White',\n",
       "  'Race Alone - Hispanic',\n",
       "  'Race Alone - Black or African American',\n",
       "  'Race Alone - American Indian and Alaska Native',\n",
       "  'Race Alone - Asian',\n",
       "  'Race Alone - Native Hawaiian and Other Pacific Islander',\n",
       "  'Two or More Races'],\n",
       " ['cen42010',\n",
       "  'April 1, 2010 Census',\n",
       "  'totsex',\n",
       "  'Both Sexes',\n",
       "  'tothisp',\n",
       "  'Total',\n",
       "  '0100000US',\n",
       "  '',\n",
       "  'United States',\n",
       "  '308745538',\n",
       "  '197318956',\n",
       "  '44618105',\n",
       "  '40250635',\n",
       "  '3739506',\n",
       "  '15159516',\n",
       "  '674625',\n",
       "  '6984195']]"
      ]
     },
     "execution_count": 8,
     "metadata": {},
     "output_type": "execute_result"
    }
   ],
   "source": [
    "#read in second file containing the total number of people by racial group\n",
    "#convert data to a list of lists \n",
    "f2=open(\"census.csv\",\"r\")\n",
    "csvreader2=csv.reader(f2)\n",
    "census=list(csvreader2)\n",
    "census"
   ]
  },
  {
   "cell_type": "code",
   "execution_count": 9,
   "metadata": {
    "collapsed": false
   },
   "outputs": [
    {
     "name": "stdout",
     "output_type": "stream",
     "text": [
      "{'White': 197318956, 'Hispanic': 44618105, 'Asian/Pacific Islander': 18899022, 'Black': 40250635, 'Native American/Native Alaskan': 3739506}\n"
     ]
    }
   ],
   "source": [
    "#create dictionary from census data with correlating race names as first file with total population\n",
    "mapping={\n",
    "    \"Asian/Pacific Islander\":int(census[1][13])+int(census[1][14]),\n",
    "    \"Black\":int(census[1][12]),\n",
    "    \"Native American/Native Alaskan\":int(census[1][13]),\n",
    "    \"Hispanic\":int(census[1][11]),\n",
    "    \"White\":int(census[1][10])\n",
    "}\n",
    "print(mapping)"
   ]
  },
  {
   "cell_type": "code",
   "execution_count": 10,
   "metadata": {
    "collapsed": false
   },
   "outputs": [
    {
     "name": "stdout",
     "output_type": "stream",
     "text": [
      "{'White': 33.57, 'Asian/Pacific Islander': 7.02, 'Hispanic': 20.22, 'Black': 57.88, 'Native American/Native Alaskan': 24.52}\n"
     ]
    }
   ],
   "source": [
    "#create dictionary that gives the number of deaths per 10,000ppl by race\n",
    "race_per_hundredk={}\n",
    "\n",
    "for key,value in race_counts.items():\n",
    "    race_per_hundredk[key]=round((value*100000)/mapping[key],2)\n",
    "\n",
    "print(race_per_hundredk)"
   ]
  },
  {
   "cell_type": "markdown",
   "metadata": {},
   "source": [
    "Observation: Now that the data has been normalized by race population, you can see that the Black community has the highest gun deaths per 10,0000 ppl even though there were more overall White deaths from 2012-2014."
   ]
  },
  {
   "cell_type": "code",
   "execution_count": 11,
   "metadata": {
    "collapsed": false
   },
   "outputs": [
    {
     "name": "stdout",
     "output_type": "stream",
     "text": [
      "{'White': 4.6356417981453335, 'Hispanic': 12.627161104219912, 'Asian/Pacific Islander': 2.9578250133789994, 'Black': 48.47128498718095, 'Native American/Native Alaskan': 8.717729026240365}\n"
     ]
    }
   ],
   "source": [
    "#create dictionary that counts deaths with homicide intent by normalized race population\n",
    "intents=[event[3] for event in data]\n",
    "races=[event[7] for event in data]\n",
    "\n",
    "homicide_race_counts={}\n",
    "for i,race in enumerate(races):\n",
    "    if intents[i]==\"Homicide\":\n",
    "        if race in homicide_race_counts:\n",
    "            homicide_race_counts[race]=homicide_race_counts[race]+1\n",
    "        else: \n",
    "            homicide_race_counts[race]=1\n",
    "\n",
    "for key,value in homicide_race_counts.items():\n",
    "    homicide_race_counts[key]=(value*100000)/mapping[key]\n",
    "\n",
    "print(homicide_race_counts)\n",
    "  "
   ]
  },
  {
   "cell_type": "markdown",
   "metadata": {},
   "source": [
    "In considering the gun deaths by homicide that occurred between 2012-2014, the race most affected by population percentage was the Black community.  "
   ]
  },
  {
   "cell_type": "markdown",
   "metadata": {},
   "source": [
    "Question 1: Is there a link bewteen month and homicide rate? "
   ]
  },
  {
   "cell_type": "code",
   "execution_count": 12,
   "metadata": {
    "collapsed": false
   },
   "outputs": [
    {
     "data": {
      "text/plain": [
       "{'01': 2829,\n",
       " '02': 2178,\n",
       " '03': 2780,\n",
       " '04': 2845,\n",
       " '05': 2976,\n",
       " '06': 3130,\n",
       " '07': 3269,\n",
       " '08': 3125,\n",
       " '09': 2966,\n",
       " '10': 2968,\n",
       " '11': 2919,\n",
       " '12': 3191}"
      ]
     },
     "execution_count": 12,
     "metadata": {},
     "output_type": "execute_result"
    }
   ],
   "source": [
    "#create dictionary that counts deaths with homicide intent by normalized race population\n",
    "intents=[event[3] for event in data]\n",
    "month=[event[2] for event in data]\n",
    "\n",
    "homicide_month_counts={}\n",
    "for i,id_month in enumerate(month):\n",
    "    if intents[i]==\"Homicide\":\n",
    "        if id_month in homicide_month_counts:\n",
    "            homicide_month_counts[id_month]=homicide_month_counts[id_month]+1\n",
    "        else: \n",
    "            homicide_month_counts[id_month]=1\n",
    "homicide_month_counts"
   ]
  },
  {
   "cell_type": "markdown",
   "metadata": {
    "collapsed": true
   },
   "source": [
    "Observation: Looking at homicides per month, it appears the most homicides occur in July where the least homicides occur in February. It also seems that homicide tend to be worse in the summer months and during the holidays."
   ]
  },
  {
   "cell_type": "markdown",
   "metadata": {},
   "source": [
    "Question 2: How does the homicide rate look by gender? And by education levels? "
   ]
  },
  {
   "cell_type": "code",
   "execution_count": 13,
   "metadata": {
    "collapsed": false
   },
   "outputs": [],
   "source": [
    "#created a function that is flexible in understanding gun death relationships\n",
    "def new_trends(input1, input2, interest):\n",
    "    column1=[event[input1] for event in data]\n",
    "    column2=[event[input2] for event in data]\n",
    "    \n",
    "    trend_dict={}\n",
    "    for key, value in enumerate(column2):\n",
    "        if column1[key]==interest:\n",
    "            if value in trend_dict:\n",
    "                trend_dict[value]=trend_dict[value]+1\n",
    "            else:\n",
    "                trend_dict[value]=1\n",
    "            \n",
    "    return trend_dict"
   ]
  },
  {
   "cell_type": "code",
   "execution_count": 14,
   "metadata": {
    "collapsed": false
   },
   "outputs": [
    {
     "data": {
      "text/plain": [
       "{'01': 2829,\n",
       " '02': 2178,\n",
       " '03': 2780,\n",
       " '04': 2845,\n",
       " '05': 2976,\n",
       " '06': 3130,\n",
       " '07': 3269,\n",
       " '08': 3125,\n",
       " '09': 2966,\n",
       " '10': 2968,\n",
       " '11': 2919,\n",
       " '12': 3191}"
      ]
     },
     "execution_count": 14,
     "metadata": {},
     "output_type": "execute_result"
    }
   ],
   "source": [
    "#let's test how my general function compared to my prevous results\n",
    "new_trends(3,2,\"Homicide\")"
   ]
  },
  {
   "cell_type": "code",
   "execution_count": 15,
   "metadata": {
    "collapsed": false
   },
   "outputs": [
    {
     "data": {
      "text/plain": [
       "{'F': 5373, 'M': 29803}"
      ]
     },
     "execution_count": 15,
     "metadata": {},
     "output_type": "execute_result"
    }
   ],
   "source": [
    "#new_trends function agrees with previous results\n",
    "#let's explore homicide's relationship with gender\n",
    "new_trends(3,5,\"Homicide\")"
   ]
  },
  {
   "cell_type": "code",
   "execution_count": 16,
   "metadata": {
    "collapsed": false
   },
   "outputs": [
    {
     "data": {
      "text/plain": [
       "{'0': 33774, '1': 1402}"
      ]
     },
     "execution_count": 16,
     "metadata": {},
     "output_type": "execute_result"
    }
   ],
   "source": [
    "new_trends(3,4,\"Homicide\")"
   ]
  },
  {
   "cell_type": "code",
   "execution_count": 17,
   "metadata": {
    "collapsed": false
   },
   "outputs": [
    {
     "data": {
      "text/plain": [
       "{'1': 11839, '2': 15649, '3': 5640, '4': 1559, '5': 455, 'NA': 34}"
      ]
     },
     "execution_count": 17,
     "metadata": {},
     "output_type": "execute_result"
    }
   ],
   "source": [
    "new_trends(3,10,\"Homicide\")"
   ]
  },
  {
   "cell_type": "code",
   "execution_count": 18,
   "metadata": {
    "collapsed": false
   },
   "outputs": [
    {
     "data": {
      "text/plain": [
       "{'0': 22,\n",
       " '1': 34,\n",
       " '10': 37,\n",
       " '107': 1,\n",
       " '11': 39,\n",
       " '12': 50,\n",
       " '13': 85,\n",
       " '14': 125,\n",
       " '15': 261,\n",
       " '16': 474,\n",
       " '17': 710,\n",
       " '18': 1138,\n",
       " '19': 1364,\n",
       " '2': 29,\n",
       " '20': 1467,\n",
       " '21': 1570,\n",
       " '22': 1628,\n",
       " '23': 1459,\n",
       " '24': 1442,\n",
       " '25': 1300,\n",
       " '26': 1245,\n",
       " '27': 1136,\n",
       " '28': 1119,\n",
       " '29': 1055,\n",
       " '3': 36,\n",
       " '30': 993,\n",
       " '31': 928,\n",
       " '32': 964,\n",
       " '33': 884,\n",
       " '34': 867,\n",
       " '35': 782,\n",
       " '36': 718,\n",
       " '37': 646,\n",
       " '38': 625,\n",
       " '39': 552,\n",
       " '4': 32,\n",
       " '40': 555,\n",
       " '41': 540,\n",
       " '42': 537,\n",
       " '43': 493,\n",
       " '44': 435,\n",
       " '45': 399,\n",
       " '46': 401,\n",
       " '47': 438,\n",
       " '48': 386,\n",
       " '49': 414,\n",
       " '5': 34,\n",
       " '50': 387,\n",
       " '51': 375,\n",
       " '52': 336,\n",
       " '53': 295,\n",
       " '54': 261,\n",
       " '55': 232,\n",
       " '56': 250,\n",
       " '57': 214,\n",
       " '58': 204,\n",
       " '59': 204,\n",
       " '6': 42,\n",
       " '60': 145,\n",
       " '61': 155,\n",
       " '62': 155,\n",
       " '63': 112,\n",
       " '64': 130,\n",
       " '65': 101,\n",
       " '66': 106,\n",
       " '67': 89,\n",
       " '68': 95,\n",
       " '69': 60,\n",
       " '7': 38,\n",
       " '70': 54,\n",
       " '71': 56,\n",
       " '72': 51,\n",
       " '73': 58,\n",
       " '74': 43,\n",
       " '75': 35,\n",
       " '76': 40,\n",
       " '77': 25,\n",
       " '78': 46,\n",
       " '79': 29,\n",
       " '8': 23,\n",
       " '80': 37,\n",
       " '81': 26,\n",
       " '82': 20,\n",
       " '83': 28,\n",
       " '84': 30,\n",
       " '85': 19,\n",
       " '86': 11,\n",
       " '87': 12,\n",
       " '88': 11,\n",
       " '89': 12,\n",
       " '9': 36,\n",
       " '90': 10,\n",
       " '91': 3,\n",
       " '92': 3,\n",
       " '93': 3,\n",
       " '94': 2,\n",
       " '95': 3,\n",
       " '96': 3,\n",
       " '97': 2,\n",
       " '99': 1,\n",
       " 'NA': 9}"
      ]
     },
     "execution_count": 18,
     "metadata": {},
     "output_type": "execute_result"
    }
   ],
   "source": [
    "new_trends(3,6,\"Homicide\")"
   ]
  },
  {
   "cell_type": "code",
   "execution_count": 19,
   "metadata": {
    "collapsed": false
   },
   "outputs": [
    {
     "data": {
      "text/plain": [
       "{'Farm': 76,\n",
       " 'Home': 13613,\n",
       " 'Industrial/construction': 85,\n",
       " 'NA': 1383,\n",
       " 'Other specified': 5429,\n",
       " 'Other unspecified': 3604,\n",
       " 'Residential institution': 73,\n",
       " 'School/instiution': 361,\n",
       " 'Sports': 22,\n",
       " 'Street': 8867,\n",
       " 'Trade/service area': 1663}"
      ]
     },
     "execution_count": 19,
     "metadata": {},
     "output_type": "execute_result"
    }
   ],
   "source": [
    "new_trends(3,9,\"Homicide\")"
   ]
  },
  {
   "cell_type": "markdown",
   "metadata": {},
   "source": [
    "Observation: In looking at trends for homicide gun deaths, I have a very generalized undestanding of the victim demographic and situation: The victim may be a Black male (by % race) between 18-29 with a highschool eduation or less. The crime may have taken place sometime within the summer or around the holidays in the victims home and most likely did not involve police. "
   ]
  },
  {
   "cell_type": "code",
   "execution_count": 20,
   "metadata": {
    "collapsed": false
   },
   "outputs": [
    {
     "data": {
      "text/plain": [
       "{'Accidental', 'Homicide', 'NA', 'Suicide', 'Undetermined'}"
      ]
     },
     "execution_count": 20,
     "metadata": {},
     "output_type": "execute_result"
    }
   ],
   "source": [
    "#what are the unique values for intent\n",
    "intents=[event[3] for event in data]\n",
    "set(intents)"
   ]
  },
  {
   "cell_type": "code",
   "execution_count": 21,
   "metadata": {
    "collapsed": false
   },
   "outputs": [
    {
     "data": {
      "text/plain": [
       "{'Farm',\n",
       " 'Home',\n",
       " 'Industrial/construction',\n",
       " 'NA',\n",
       " 'Other specified',\n",
       " 'Other unspecified',\n",
       " 'Residential institution',\n",
       " 'School/instiution',\n",
       " 'Sports',\n",
       " 'Street',\n",
       " 'Trade/service area'}"
      ]
     },
     "execution_count": 21,
     "metadata": {},
     "output_type": "execute_result"
    }
   ],
   "source": [
    "#what are the unique values for location\n",
    "location=[event[9] for event in data]\n",
    "set(location)"
   ]
  },
  {
   "cell_type": "markdown",
   "metadata": {},
   "source": [
    "Question 3: How do gender and race very by these other intents? "
   ]
  },
  {
   "cell_type": "code",
   "execution_count": 22,
   "metadata": {
    "collapsed": false
   },
   "outputs": [
    {
     "data": {
      "text/plain": [
       "{'01': 5220,\n",
       " '02': 4732,\n",
       " '03': 5309,\n",
       " '04': 5438,\n",
       " '05': 5506,\n",
       " '06': 5367,\n",
       " '07': 5514,\n",
       " '08': 5421,\n",
       " '09': 5343,\n",
       " '10': 5256,\n",
       " '11': 5086,\n",
       " '12': 4983}"
      ]
     },
     "execution_count": 22,
     "metadata": {},
     "output_type": "execute_result"
    }
   ],
   "source": [
    "new_trends(3,2,\"Suicide\")"
   ]
  },
  {
   "cell_type": "code",
   "execution_count": 23,
   "metadata": {
    "collapsed": false
   },
   "outputs": [
    {
     "data": {
      "text/plain": [
       "{'0': 63175}"
      ]
     },
     "execution_count": 23,
     "metadata": {},
     "output_type": "execute_result"
    }
   ],
   "source": [
    "new_trends(3,4,\"Suicide\")"
   ]
  },
  {
   "cell_type": "code",
   "execution_count": 24,
   "metadata": {
    "collapsed": false
   },
   "outputs": [
    {
     "data": {
      "text/plain": [
       "{'F': 8689, 'M': 54486}"
      ]
     },
     "execution_count": 24,
     "metadata": {},
     "output_type": "execute_result"
    }
   ],
   "source": [
    "new_trends(3,5,\"Suicide\")"
   ]
  },
  {
   "cell_type": "code",
   "execution_count": 25,
   "metadata": {
    "collapsed": false
   },
   "outputs": [
    {
     "data": {
      "text/plain": [
       "{'10': 3,\n",
       " '100': 1,\n",
       " '101': 2,\n",
       " '102': 2,\n",
       " '11': 14,\n",
       " '12': 54,\n",
       " '13': 127,\n",
       " '14': 217,\n",
       " '15': 276,\n",
       " '16': 355,\n",
       " '17': 432,\n",
       " '18': 556,\n",
       " '19': 631,\n",
       " '20': 687,\n",
       " '21': 864,\n",
       " '22': 1012,\n",
       " '23': 949,\n",
       " '24': 936,\n",
       " '25': 883,\n",
       " '26': 935,\n",
       " '27': 893,\n",
       " '28': 826,\n",
       " '29': 846,\n",
       " '30': 832,\n",
       " '31': 870,\n",
       " '32': 824,\n",
       " '33': 782,\n",
       " '34': 795,\n",
       " '35': 810,\n",
       " '36': 765,\n",
       " '37': 821,\n",
       " '38': 836,\n",
       " '39': 812,\n",
       " '40': 827,\n",
       " '41': 909,\n",
       " '42': 934,\n",
       " '43': 1009,\n",
       " '44': 979,\n",
       " '45': 948,\n",
       " '46': 1007,\n",
       " '47': 1059,\n",
       " '48': 1205,\n",
       " '49': 1218,\n",
       " '50': 1248,\n",
       " '51': 1338,\n",
       " '52': 1334,\n",
       " '53': 1376,\n",
       " '54': 1390,\n",
       " '55': 1324,\n",
       " '56': 1343,\n",
       " '57': 1226,\n",
       " '58': 1274,\n",
       " '59': 1196,\n",
       " '60': 1187,\n",
       " '61': 1123,\n",
       " '62': 917,\n",
       " '63': 909,\n",
       " '64': 967,\n",
       " '65': 910,\n",
       " '66': 857,\n",
       " '67': 761,\n",
       " '68': 755,\n",
       " '69': 799,\n",
       " '70': 812,\n",
       " '71': 717,\n",
       " '72': 667,\n",
       " '73': 664,\n",
       " '74': 618,\n",
       " '75': 633,\n",
       " '76': 532,\n",
       " '77': 543,\n",
       " '78': 545,\n",
       " '79': 537,\n",
       " '80': 497,\n",
       " '81': 524,\n",
       " '82': 493,\n",
       " '83': 516,\n",
       " '84': 453,\n",
       " '85': 418,\n",
       " '86': 394,\n",
       " '87': 298,\n",
       " '88': 328,\n",
       " '89': 229,\n",
       " '9': 2,\n",
       " '90': 197,\n",
       " '91': 169,\n",
       " '92': 121,\n",
       " '93': 100,\n",
       " '94': 60,\n",
       " '95': 50,\n",
       " '96': 35,\n",
       " '97': 18,\n",
       " '98': 16,\n",
       " '99': 5,\n",
       " 'NA': 7}"
      ]
     },
     "execution_count": 25,
     "metadata": {},
     "output_type": "execute_result"
    }
   ],
   "source": [
    "new_trends(3,6,\"Suicide\")"
   ]
  },
  {
   "cell_type": "code",
   "execution_count": 26,
   "metadata": {
    "collapsed": false
   },
   "outputs": [
    {
     "data": {
      "text/plain": [
       "{'Asian/Pacific Islander': 3.942002924807432,\n",
       " 'Black': 8.278130270491385,\n",
       " 'Hispanic': 7.10698045109715,\n",
       " 'Native American/Native Alaskan': 14.841532544673013,\n",
       " 'White': 28.06217969245692}"
      ]
     },
     "execution_count": 26,
     "metadata": {},
     "output_type": "execute_result"
    }
   ],
   "source": [
    "scd_by_race=new_trends(3,7,\"Suicide\")\n",
    "\n",
    "for key,value in scd_by_race.items():\n",
    "    scd_by_race[key]=(value*100000)/mapping[key]\n",
    "\n",
    "scd_by_race"
   ]
  },
  {
   "cell_type": "code",
   "execution_count": 27,
   "metadata": {
    "collapsed": false
   },
   "outputs": [
    {
     "data": {
      "text/plain": [
       "{'Farm': 378,\n",
       " 'Home': 45415,\n",
       " 'Industrial/construction': 155,\n",
       " 'Other specified': 8031,\n",
       " 'Other unspecified': 4774,\n",
       " 'Residential institution': 125,\n",
       " 'School/instiution': 295,\n",
       " 'Sports': 98,\n",
       " 'Street': 2181,\n",
       " 'Trade/service area': 1723}"
      ]
     },
     "execution_count": 27,
     "metadata": {},
     "output_type": "execute_result"
    }
   ],
   "source": [
    "new_trends(3,9,\"Suicide\")"
   ]
  },
  {
   "cell_type": "code",
   "execution_count": 28,
   "metadata": {
    "collapsed": false
   },
   "outputs": [
    {
     "data": {
      "text/plain": [
       "{'1': 9292, '2': 26321, '3': 15533, '4': 11147, '5': 876, 'NA': 6}"
      ]
     },
     "execution_count": 28,
     "metadata": {},
     "output_type": "execute_result"
    }
   ],
   "source": [
    "new_trends(3,10,\"Suicide\")"
   ]
  },
  {
   "cell_type": "markdown",
   "metadata": {},
   "source": [
    "Observation: In looking at trends for suicide gun deaths, I have a very generalized undestanding of the victim demographic and situation: The victim may be a white (by % race) male between 40-60 with a highschool eduation or some college education. The death probably occurred in the victims home but mostly likely did not take place around the holidays."
   ]
  },
  {
   "cell_type": "code",
   "execution_count": 29,
   "metadata": {
    "collapsed": false
   },
   "outputs": [
    {
     "data": {
      "text/plain": [
       "{'0': 1639}"
      ]
     },
     "execution_count": 29,
     "metadata": {},
     "output_type": "execute_result"
    }
   ],
   "source": [
    "new_trends(3,4,\"Accidental\")"
   ]
  },
  {
   "cell_type": "code",
   "execution_count": 30,
   "metadata": {
    "collapsed": false
   },
   "outputs": [
    {
     "data": {
      "text/plain": [
       "{'F': 218, 'M': 1421}"
      ]
     },
     "execution_count": 30,
     "metadata": {},
     "output_type": "execute_result"
    }
   ],
   "source": [
    "new_trends(3,5,\"Accidental\")"
   ]
  },
  {
   "cell_type": "code",
   "execution_count": 31,
   "metadata": {
    "collapsed": false
   },
   "outputs": [
    {
     "data": {
      "text/plain": [
       "{'0': 11,\n",
       " '1': 4,\n",
       " '10': 12,\n",
       " '11': 7,\n",
       " '12': 11,\n",
       " '13': 11,\n",
       " '14': 17,\n",
       " '15': 21,\n",
       " '16': 25,\n",
       " '17': 23,\n",
       " '18': 45,\n",
       " '19': 49,\n",
       " '2': 21,\n",
       " '20': 41,\n",
       " '21': 45,\n",
       " '22': 47,\n",
       " '23': 38,\n",
       " '24': 40,\n",
       " '25': 31,\n",
       " '26': 32,\n",
       " '27': 23,\n",
       " '28': 24,\n",
       " '29': 30,\n",
       " '3': 28,\n",
       " '30': 28,\n",
       " '31': 21,\n",
       " '32': 19,\n",
       " '33': 23,\n",
       " '34': 26,\n",
       " '35': 24,\n",
       " '36': 15,\n",
       " '37': 27,\n",
       " '38': 20,\n",
       " '39': 19,\n",
       " '4': 19,\n",
       " '40': 15,\n",
       " '41': 21,\n",
       " '42': 13,\n",
       " '43': 15,\n",
       " '44': 21,\n",
       " '45': 15,\n",
       " '46': 21,\n",
       " '47': 23,\n",
       " '48': 20,\n",
       " '49': 25,\n",
       " '5': 7,\n",
       " '50': 29,\n",
       " '51': 31,\n",
       " '52': 26,\n",
       " '53': 24,\n",
       " '54': 25,\n",
       " '55': 23,\n",
       " '56': 21,\n",
       " '57': 23,\n",
       " '58': 21,\n",
       " '59': 17,\n",
       " '6': 7,\n",
       " '60': 13,\n",
       " '61': 20,\n",
       " '62': 17,\n",
       " '63': 16,\n",
       " '64': 17,\n",
       " '65': 21,\n",
       " '66': 22,\n",
       " '67': 11,\n",
       " '68': 14,\n",
       " '69': 14,\n",
       " '7': 5,\n",
       " '70': 9,\n",
       " '71': 14,\n",
       " '72': 9,\n",
       " '73': 14,\n",
       " '74': 7,\n",
       " '75': 5,\n",
       " '76': 6,\n",
       " '77': 5,\n",
       " '78': 4,\n",
       " '79': 6,\n",
       " '8': 9,\n",
       " '80': 11,\n",
       " '81': 10,\n",
       " '82': 7,\n",
       " '83': 3,\n",
       " '84': 4,\n",
       " '85': 2,\n",
       " '86': 1,\n",
       " '87': 1,\n",
       " '88': 1,\n",
       " '89': 4,\n",
       " '9': 8,\n",
       " '91': 4,\n",
       " '92': 2,\n",
       " '94': 1,\n",
       " '96': 1,\n",
       " 'NA': 1}"
      ]
     },
     "execution_count": 31,
     "metadata": {},
     "output_type": "execute_result"
    }
   ],
   "source": [
    "new_trends(3,6,\"Accidental\")"
   ]
  },
  {
   "cell_type": "code",
   "execution_count": 32,
   "metadata": {
    "collapsed": false
   },
   "outputs": [
    {
     "name": "stdout",
     "output_type": "stream",
     "text": [
      "{'White': 1132, 'Black': 328, 'Hispanic': 145, 'Asian/Pacific Islander': 12, 'Native American/Native Alaskan': 22}\n"
     ]
    },
    {
     "data": {
      "text/plain": [
       "{'Asian/Pacific Islander': 0.06349534912441501,\n",
       " 'Black': 0.814893976206835,\n",
       " 'Hispanic': 0.3249801846133985,\n",
       " 'Native American/Native Alaskan': 0.5883130017708221,\n",
       " 'White': 0.5736904466492312}"
      ]
     },
     "execution_count": 32,
     "metadata": {},
     "output_type": "execute_result"
    }
   ],
   "source": [
    "acc_by_race=new_trends(3,7,\"Accidental\")\n",
    "print(acc_by_race)\n",
    "for key,value in acc_by_race.items():\n",
    "    acc_by_race[key]=(value*100000)/mapping[key]\n",
    "\n",
    "acc_by_race"
   ]
  },
  {
   "cell_type": "code",
   "execution_count": 33,
   "metadata": {
    "collapsed": false
   },
   "outputs": [
    {
     "data": {
      "text/plain": [
       "{'Farm': 13,\n",
       " 'Home': 923,\n",
       " 'Industrial/construction': 7,\n",
       " 'Other specified': 212,\n",
       " 'Other unspecified': 350,\n",
       " 'Residential institution': 5,\n",
       " 'School/instiution': 11,\n",
       " 'Sports': 5,\n",
       " 'Street': 78,\n",
       " 'Trade/service area': 35}"
      ]
     },
     "execution_count": 33,
     "metadata": {},
     "output_type": "execute_result"
    }
   ],
   "source": [
    "new_trends(3,9,\"Accidental\")"
   ]
  },
  {
   "cell_type": "code",
   "execution_count": 34,
   "metadata": {
    "collapsed": false
   },
   "outputs": [
    {
     "data": {
      "text/plain": [
       "{'1': 492, '2': 633, '3': 327, '4': 146, '5': 28, 'NA': 13}"
      ]
     },
     "execution_count": 34,
     "metadata": {},
     "output_type": "execute_result"
    }
   ],
   "source": [
    "new_trends(3,10,\"Accidental\")"
   ]
  },
  {
   "cell_type": "markdown",
   "metadata": {},
   "source": [
    "Observation: In looking at trends for accidnetal gun deaths, I have a very generalized undestanding of the victim demographic and situation: The victim may be a black male (by % race) between late teens into 30s with a some or complete highschool eduation. The death probably occurred in the victims home but did not involve any police. In looking only  at total accidental deaths, there are more white victims. "
   ]
  },
  {
   "cell_type": "markdown",
   "metadata": {},
   "source": [
    "Question 4: How do gun death rates correlate with location and education?"
   ]
  },
  {
   "cell_type": "code",
   "execution_count": 35,
   "metadata": {
    "collapsed": true
   },
   "outputs": [],
   "source": [
    "#create function to find a singluar trend with gun deaths like above\n",
    "def one_trend(input):\n",
    "    one_dict={}\n",
    "    for event in data: \n",
    "        if event[input] in one_dict:\n",
    "            one_dict[event[input]]=one_dict[event[input]]+1\n",
    "        else:\n",
    "            one_dict[event[input]]=1\n",
    "    \n",
    "    return one_dict"
   ]
  },
  {
   "cell_type": "code",
   "execution_count": 36,
   "metadata": {
    "collapsed": false
   },
   "outputs": [
    {
     "data": {
      "text/plain": [
       "{'Farm': 470,\n",
       " 'Home': 60486,\n",
       " 'Industrial/construction': 248,\n",
       " 'NA': 1384,\n",
       " 'Other specified': 13751,\n",
       " 'Other unspecified': 8867,\n",
       " 'Residential institution': 203,\n",
       " 'School/instiution': 671,\n",
       " 'Sports': 128,\n",
       " 'Street': 11151,\n",
       " 'Trade/service area': 3439}"
      ]
     },
     "execution_count": 36,
     "metadata": {},
     "output_type": "execute_result"
    }
   ],
   "source": [
    "one_trend(9)"
   ]
  },
  {
   "cell_type": "code",
   "execution_count": 37,
   "metadata": {
    "collapsed": false
   },
   "outputs": [
    {
     "data": {
      "text/plain": [
       "{'1': 21823, '2': 42927, '3': 21680, '4': 12946, '5': 1369, 'NA': 53}"
      ]
     },
     "execution_count": 37,
     "metadata": {},
     "output_type": "execute_result"
    }
   ],
   "source": [
    "one_trend(10)"
   ]
  },
  {
   "cell_type": "markdown",
   "metadata": {},
   "source": [
    "Observation: Overall, the gun deaths occur in the victim's home and the victim typically graduated from high school but didn't attend college."
   ]
  },
  {
   "cell_type": "markdown",
   "metadata": {},
   "source": [
    "Question 5: What about female gun deaths? "
   ]
  },
  {
   "cell_type": "code",
   "execution_count": 40,
   "metadata": {
    "collapsed": false
   },
   "outputs": [
    {
     "data": {
      "text/plain": [
       "{'Accidental': 218, 'Homicide': 5373, 'Suicide': 8689, 'Undetermined': 169}"
      ]
     },
     "execution_count": 40,
     "metadata": {},
     "output_type": "execute_result"
    }
   ],
   "source": [
    "new_trends(5,3,\"F\")"
   ]
  },
  {
   "cell_type": "code",
   "execution_count": 41,
   "metadata": {
    "collapsed": false
   },
   "outputs": [
    {
     "data": {
      "text/plain": [
       "{'0': 14386, '1': 63}"
      ]
     },
     "execution_count": 41,
     "metadata": {},
     "output_type": "execute_result"
    }
   ],
   "source": [
    "new_trends(5,4,\"F\")"
   ]
  },
  {
   "cell_type": "code",
   "execution_count": 42,
   "metadata": {
    "collapsed": false
   },
   "outputs": [
    {
     "data": {
      "text/plain": [
       "{'0': 14,\n",
       " '1': 21,\n",
       " '10': 19,\n",
       " '101': 1,\n",
       " '11': 21,\n",
       " '12': 31,\n",
       " '13': 52,\n",
       " '14': 65,\n",
       " '15': 78,\n",
       " '16': 114,\n",
       " '17': 128,\n",
       " '18': 173,\n",
       " '19': 201,\n",
       " '2': 16,\n",
       " '20': 233,\n",
       " '21': 273,\n",
       " '22': 292,\n",
       " '23': 240,\n",
       " '24': 306,\n",
       " '25': 250,\n",
       " '26': 248,\n",
       " '27': 249,\n",
       " '28': 260,\n",
       " '29': 254,\n",
       " '3': 18,\n",
       " '30': 265,\n",
       " '31': 262,\n",
       " '32': 256,\n",
       " '33': 235,\n",
       " '34': 246,\n",
       " '35': 250,\n",
       " '36': 206,\n",
       " '37': 212,\n",
       " '38': 231,\n",
       " '39': 223,\n",
       " '4': 20,\n",
       " '40': 260,\n",
       " '41': 278,\n",
       " '42': 251,\n",
       " '43': 281,\n",
       " '44': 270,\n",
       " '45': 256,\n",
       " '46': 271,\n",
       " '47': 297,\n",
       " '48': 340,\n",
       " '49': 328,\n",
       " '5': 24,\n",
       " '50': 325,\n",
       " '51': 333,\n",
       " '52': 303,\n",
       " '53': 324,\n",
       " '54': 289,\n",
       " '55': 286,\n",
       " '56': 290,\n",
       " '57': 260,\n",
       " '58': 238,\n",
       " '59': 232,\n",
       " '6': 31,\n",
       " '60': 187,\n",
       " '61': 172,\n",
       " '62': 170,\n",
       " '63': 141,\n",
       " '64': 192,\n",
       " '65': 158,\n",
       " '66': 151,\n",
       " '67': 116,\n",
       " '68': 120,\n",
       " '69': 132,\n",
       " '7': 12,\n",
       " '70': 93,\n",
       " '71': 109,\n",
       " '72': 80,\n",
       " '73': 73,\n",
       " '74': 59,\n",
       " '75': 66,\n",
       " '76': 61,\n",
       " '77': 50,\n",
       " '78': 62,\n",
       " '79': 50,\n",
       " '8': 13,\n",
       " '80': 59,\n",
       " '81': 55,\n",
       " '82': 44,\n",
       " '83': 53,\n",
       " '84': 38,\n",
       " '85': 36,\n",
       " '86': 27,\n",
       " '87': 27,\n",
       " '88': 19,\n",
       " '89': 24,\n",
       " '9': 13,\n",
       " '90': 12,\n",
       " '91': 11,\n",
       " '92': 8,\n",
       " '93': 9,\n",
       " '94': 3,\n",
       " '95': 3,\n",
       " '96': 4,\n",
       " '97': 2,\n",
       " '98': 2,\n",
       " 'NA': 3}"
      ]
     },
     "execution_count": 42,
     "metadata": {},
     "output_type": "execute_result"
    }
   ],
   "source": [
    "new_trends(5,6,\"F\")"
   ]
  },
  {
   "cell_type": "code",
   "execution_count": 43,
   "metadata": {
    "collapsed": false
   },
   "outputs": [
    {
     "data": {
      "text/plain": [
       "{'Asian/Pacific Islander': 244,\n",
       " 'Black': 2318,\n",
       " 'Hispanic': 1073,\n",
       " 'Native American/Native Alaskan': 127,\n",
       " 'White': 10687}"
      ]
     },
     "execution_count": 43,
     "metadata": {},
     "output_type": "execute_result"
    }
   ],
   "source": [
    "new_trends(5,7,\"F\")"
   ]
  },
  {
   "cell_type": "code",
   "execution_count": 45,
   "metadata": {
    "collapsed": false
   },
   "outputs": [
    {
     "data": {
      "text/plain": [
       "{'Farm': 50,\n",
       " 'Home': 10274,\n",
       " 'Industrial/construction': 20,\n",
       " 'NA': 63,\n",
       " 'Other specified': 1442,\n",
       " 'Other unspecified': 1202,\n",
       " 'Residential institution': 40,\n",
       " 'School/instiution': 110,\n",
       " 'Sports': 12,\n",
       " 'Street': 840,\n",
       " 'Trade/service area': 396}"
      ]
     },
     "execution_count": 45,
     "metadata": {},
     "output_type": "execute_result"
    }
   ],
   "source": [
    "new_trends(5,9,\"F\")"
   ]
  },
  {
   "cell_type": "code",
   "execution_count": 46,
   "metadata": {
    "collapsed": false
   },
   "outputs": [
    {
     "data": {
      "text/plain": [
       "{'1': 2379, '2': 5588, '3': 3930, '4': 2346, '5': 187, 'NA': 19}"
      ]
     },
     "execution_count": 46,
     "metadata": {},
     "output_type": "execute_result"
    }
   ],
   "source": [
    "new_trends(5,10,\"F\")"
   ]
  },
  {
   "cell_type": "markdown",
   "metadata": {},
   "source": [
    "Observation: In looking at all female deaths, I can conclude the female gun deaths are typically suicide victims which is fairly constant from 20 - 55. "
   ]
  }
 ],
 "metadata": {
  "kernelspec": {
   "display_name": "Python 3",
   "language": "python",
   "name": "python3"
  },
  "language_info": {
   "codemirror_mode": {
    "name": "ipython",
    "version": 3
   },
   "file_extension": ".py",
   "mimetype": "text/x-python",
   "name": "python",
   "nbconvert_exporter": "python",
   "pygments_lexer": "ipython3",
   "version": "3.4.3"
  }
 },
 "nbformat": 4,
 "nbformat_minor": 0
}
