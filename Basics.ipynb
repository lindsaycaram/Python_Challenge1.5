{
 "cells": [
  {
   "cell_type": "code",
   "execution_count": 1,
   "metadata": {
    "collapsed": true
   },
   "outputs": [],
   "source": [
    "#index, year, month, intent, police, sex, age, race, hispanic, place, education"
   ]
  },
  {
   "cell_type": "code",
   "execution_count": 1,
   "metadata": {
    "collapsed": false
   },
   "outputs": [
    {
     "name": "stdout",
     "output_type": "stream",
     "text": [
      "[['', 'year', 'month', 'intent', 'police', 'sex', 'age', 'race', 'hispanic', 'place', 'education'], ['1', '2012', '01', 'Suicide', '0', 'M', '34', 'Asian/Pacific Islander', '100', 'Home', '4'], ['2', '2012', '01', 'Suicide', '0', 'F', '21', 'White', '100', 'Street', '3'], ['3', '2012', '01', 'Suicide', '0', 'M', '60', 'White', '100', 'Other specified', '4'], ['4', '2012', '02', 'Suicide', '0', 'M', '64', 'White', '100', 'Home', '4']]\n"
     ]
    }
   ],
   "source": [
    "import csv \n",
    "f=open(\"guns.csv\",\"r\")\n",
    "csvreader=csv.reader(f)\n",
    "data=list(csvreader)\n",
    "print(data[:5])"
   ]
  },
  {
   "cell_type": "code",
   "execution_count": 2,
   "metadata": {
    "collapsed": false
   },
   "outputs": [
    {
     "name": "stdout",
     "output_type": "stream",
     "text": [
      "['', 'year', 'month', 'intent', 'police', 'sex', 'age', 'race', 'hispanic', 'place', 'education']\n",
      "[['1', '2012', '01', 'Suicide', '0', 'M', '34', 'Asian/Pacific Islander', '100', 'Home', '4'], ['2', '2012', '01', 'Suicide', '0', 'F', '21', 'White', '100', 'Street', '3'], ['3', '2012', '01', 'Suicide', '0', 'M', '60', 'White', '100', 'Other specified', '4'], ['4', '2012', '02', 'Suicide', '0', 'M', '64', 'White', '100', 'Home', '4'], ['5', '2012', '02', 'Suicide', '0', 'M', '31', 'White', '100', 'Other specified', '2']]\n"
     ]
    }
   ],
   "source": [
    "headers=data[0]\n",
    "print(headers)\n",
    "data=data[1:]\n",
    "print(data[0:5])"
   ]
  },
  {
   "cell_type": "code",
   "execution_count": 3,
   "metadata": {
    "collapsed": false
   },
   "outputs": [
    {
     "name": "stdout",
     "output_type": "stream",
     "text": [
      "{'2014': 33599, '2012': 33563, '2013': 33636}\n"
     ]
    }
   ],
   "source": [
    "years=[event[1] for event in data]\n",
    "year_counts={}\n",
    "for event in years:\n",
    "    if event in year_counts:\n",
    "        year_counts[event]=year_counts[event]+1\n",
    "    else:\n",
    "        year_counts[event]=1\n",
    "print(year_counts)"
   ]
  },
  {
   "cell_type": "code",
   "execution_count": 4,
   "metadata": {
    "collapsed": false
   },
   "outputs": [
    {
     "name": "stdout",
     "output_type": "stream",
     "text": [
      "{datetime.datetime(2012, 2, 1, 0, 0): 2356, datetime.datetime(2012, 4, 1, 0, 0): 2794, datetime.datetime(2012, 3, 1, 0, 0): 2742, datetime.datetime(2012, 10, 1, 0, 0): 2732, datetime.datetime(2014, 10, 1, 0, 0): 2864, datetime.datetime(2013, 2, 1, 0, 0): 2374, datetime.datetime(2013, 6, 1, 0, 0): 2919, datetime.datetime(2013, 5, 1, 0, 0): 2805, datetime.datetime(2013, 7, 1, 0, 0): 3078, datetime.datetime(2012, 1, 1, 0, 0): 2757, datetime.datetime(2014, 4, 1, 0, 0): 2861, datetime.datetime(2012, 12, 1, 0, 0): 2790, datetime.datetime(2014, 8, 1, 0, 0): 2969, datetime.datetime(2013, 11, 1, 0, 0): 2757, datetime.datetime(2014, 12, 1, 0, 0): 2856, datetime.datetime(2013, 10, 1, 0, 0): 2807, datetime.datetime(2012, 5, 1, 0, 0): 2998, datetime.datetime(2014, 2, 1, 0, 0): 2360, datetime.datetime(2013, 3, 1, 0, 0): 2861, datetime.datetime(2012, 8, 1, 0, 0): 2953, datetime.datetime(2014, 1, 1, 0, 0): 2650, datetime.datetime(2014, 6, 1, 0, 0): 2930, datetime.datetime(2012, 6, 1, 0, 0): 2825, datetime.datetime(2012, 9, 1, 0, 0): 2851, datetime.datetime(2013, 12, 1, 0, 0): 2764, datetime.datetime(2013, 8, 1, 0, 0): 2858, datetime.datetime(2014, 3, 1, 0, 0): 2683, datetime.datetime(2014, 11, 1, 0, 0): 2755, datetime.datetime(2012, 7, 1, 0, 0): 3025, datetime.datetime(2013, 4, 1, 0, 0): 2797, datetime.datetime(2014, 9, 1, 0, 0): 2913, datetime.datetime(2013, 1, 1, 0, 0): 2863, datetime.datetime(2012, 11, 1, 0, 0): 2728, datetime.datetime(2013, 9, 1, 0, 0): 2741, datetime.datetime(2014, 5, 1, 0, 0): 2863, datetime.datetime(2014, 7, 1, 0, 0): 2883}\n"
     ]
    }
   ],
   "source": [
    "import datetime\n",
    "\n",
    "dates=[datetime.datetime(year=int(event[1]),month=int(event[2]), day=1 ) for event in data]\n",
    "dates[0:5]\n",
    "\n",
    "date_counts={}\n",
    "for an_event in dates:\n",
    "    if an_event in date_counts:\n",
    "        date_counts[an_event]=date_counts[an_event]+1\n",
    "    else:\n",
    "        date_counts[an_event]=0\n",
    "            \n",
    "print(date_counts)"
   ]
  },
  {
   "cell_type": "code",
   "execution_count": 5,
   "metadata": {
    "collapsed": false
   },
   "outputs": [
    {
     "name": "stdout",
     "output_type": "stream",
     "text": [
      "{'M': 86348, 'F': 14448}\n",
      "{'Hispanic': 9021, 'Native American/Native Alaskan': 916, 'Black': 23295, 'Asian/Pacific Islander': 1325, 'White': 66236}\n"
     ]
    }
   ],
   "source": [
    "sex_counts={}\n",
    "for event in data: \n",
    "    if event[5] in sex_counts:\n",
    "        sex_counts[event[5]]=sex_counts[event[5]]+1\n",
    "    else:\n",
    "        sex_counts[event[5]]=0\n",
    "\n",
    "race_counts={}\n",
    "for event in data: \n",
    "    if event[7] in race_counts:\n",
    "        race_counts[event[7]]=race_counts[event[7]]+1\n",
    "    else:\n",
    "        race_counts[event[7]]=0\n",
    "        \n",
    "print(sex_counts)\n",
    "print(race_counts)"
   ]
  },
  {
   "cell_type": "code",
   "execution_count": 6,
   "metadata": {
    "collapsed": false
   },
   "outputs": [
    {
     "name": "stdout",
     "output_type": "stream",
     "text": [
      "The most deaths took place on 2013-07-01 00:00:00 of 3078 people\n"
     ]
    }
   ],
   "source": [
    "max_deaths=0\n",
    "month_of_deaths=None\n",
    "for ind,value in date_counts.items():\n",
    "    if value > max_deaths:\n",
    "        max_deaths= value\n",
    "        month_of_deaths=ind\n",
    "\n",
    "print(\"The most deaths took place on \" + str(month_of_deaths)+ \" of \" + str(max_deaths) + \" people\")\n"
   ]
  },
  {
   "cell_type": "code",
   "execution_count": 7,
   "metadata": {
    "collapsed": false
   },
   "outputs": [],
   "source": [
    "f2=open(\"census.csv\",\"r\")\n",
    "csvreader2=csv.reader(f2)\n",
    "census=list(csvreader2)"
   ]
  },
  {
   "cell_type": "code",
   "execution_count": 8,
   "metadata": {
    "collapsed": false
   },
   "outputs": [
    {
     "name": "stdout",
     "output_type": "stream",
     "text": [
      "{'Native American/Native Alaskan': 3739506, 'Hispanic': 44618105, 'White': 197318956, 'Asian/Pacific Islander': 18899022, 'Black': 40250635}\n"
     ]
    }
   ],
   "source": [
    "mapping={\n",
    "    \"Asian/Pacific Islander\":int(census[1][13])+int(census[1][14]),\n",
    "    \"Black\":int(census[1][12]),\n",
    "    \"Native American/Native Alaskan\":int(census[1][13]),\n",
    "    \"Hispanic\":int(census[1][11]),\n",
    "    \"White\":int(census[1][10])\n",
    "}\n",
    "print(mapping)"
   ]
  },
  {
   "cell_type": "markdown",
   "metadata": {},
   "source": [
    "Based on the \"gun.csv\" file, it can be determined that a majority of gun deaths are of white males. Overall, gun deaths were pretty consistent throughout 2012-2014. The most deaths that took place within this timeframe was in July 2013 with a total of 3,078 gun deaths."
   ]
  },
  {
   "cell_type": "code",
   "execution_count": 9,
   "metadata": {
    "collapsed": false
   },
   "outputs": [
    {
     "name": "stdout",
     "output_type": "stream",
     "text": [
      "{'Native American/Native Alaskan': 24.495214073730594, 'Black': 57.87486334066531, 'White': 33.567986240511026, 'Asian/Pacific Islander': 7.010944799154157, 'Hispanic': 20.2182499682584}\n"
     ]
    }
   ],
   "source": [
    "race_per_hundredk={}\n",
    "\n",
    "for key,value in race_counts.items():\n",
    "    race_per_hundredk[key]=(value*100000)/mapping[key]\n",
    "\n",
    "print(race_per_hundredk)"
   ]
  },
  {
   "cell_type": "code",
   "execution_count": 14,
   "metadata": {
    "collapsed": false
   },
   "outputs": [
    {
     "name": "stdout",
     "output_type": "stream",
     "text": [
      "{'Hispanic': 5633, 'Native American/Native Alaskan': 325, 'Black': 19509, 'Asian/Pacific Islander': 558, 'White': 9146}\n",
      "{'Hispanic': 12.624919861567406, 'Native American/Native Alaskan': 8.690987526159873, 'Black': 48.468800554326656, 'Asian/Pacific Islander': 2.9525337342852978, 'White': 4.635135004464548}\n"
     ]
    }
   ],
   "source": [
    "intents=[event[3] for event in data]\n",
    "races=[event[7] for event in data]\n",
    "\n",
    "homicide_race_counts={}\n",
    "for i,race in enumerate(races):\n",
    "    if intents[i]==\"Homicide\":\n",
    "        if race in homicide_race_counts:\n",
    "            homicide_race_counts[race]=homicide_race_counts[race]+1\n",
    "        else: \n",
    "            homicide_race_counts[race]=0\n",
    "\n",
    "print(homicide_race_counts)\n",
    "\n",
    "for key,value in homicide_race_counts.items():\n",
    "    homicide_race_counts[key]=(value*100000)/mapping[key]\n",
    "\n",
    "print(homicide_race_counts)\n",
    "  "
   ]
  },
  {
   "cell_type": "markdown",
   "metadata": {},
   "source": [
    "In considering the gun deaths that occurred between 2012-2014, the race most affected by homicides by population percentage was the Black community. "
   ]
  },
  {
   "cell_type": "markdown",
   "metadata": {},
   "source": [
    "I would love to continue investigating that data and determine if education, place, police, and age affect the frequency of the gun deaths. "
   ]
  },
  {
   "cell_type": "markdown",
   "metadata": {},
   "source": [
    "Other steps: \n",
    "- figure out the link i"
   ]
  }
 ],
 "metadata": {
  "kernelspec": {
   "display_name": "Python 3",
   "language": "python",
   "name": "python3"
  },
  "language_info": {
   "codemirror_mode": {
    "name": "ipython",
    "version": 3
   },
   "file_extension": ".py",
   "mimetype": "text/x-python",
   "name": "python",
   "nbconvert_exporter": "python",
   "pygments_lexer": "ipython3",
   "version": "3.4.3"
  }
 },
 "nbformat": 4,
 "nbformat_minor": 0
}
